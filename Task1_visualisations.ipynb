{
 "cells": [
  {
   "cell_type": "code",
   "execution_count": 1,
   "metadata": {},
   "outputs": [],
   "source": [
    "import streamlit as st\n",
    "import torch\n",
    "import torch.nn as nn\n",
    "import re\n",
    "import pickle\n",
    "from sklearn.manifold import TSNE\n",
    "import numpy as np\n",
    "import matplotlib.pyplot as plt\n",
    "device = torch.device('cpu')\n",
    "symbols = r\"([+\\-/*^=0123456789.,|'()])\"\n",
    "\n",
    "class NextWord(nn.Module):\n",
    "    def __init__(self, block_size, vocab_size, emb_dim, hidden_size, activation):\n",
    "        super().__init__()\n",
    "        self.emb = nn.Embedding(vocab_size, emb_dim)\n",
    "        self.lin_1 = nn.Linear(block_size * emb_dim, hidden_size[0])\n",
    "        self.lin_2 = nn.Linear(hidden_size[0], hidden_size[1])\n",
    "        self.lin_3 = nn.Linear(hidden_size[1], hidden_size[2])\n",
    "        self.lin_4 = nn.Linear(hidden_size[2], vocab_size)\n",
    "        self.activation = activation\n",
    "\n",
    "    def forward(self, x):\n",
    "        x = self.emb(x)\n",
    "        x = x.view(x.shape[0], -1)\n",
    "        x = self.activation(self.lin_1(x))\n",
    "        x = self.activation(self.lin_2(x))\n",
    "        x = self.activation(self.lin_3(x))\n",
    "        x = self.lin_4(x)\n",
    "        return x\n"
   ]
  },
  {
   "cell_type": "code",
   "execution_count": 19,
   "metadata": {},
   "outputs": [],
   "source": [
    "%matplotlib inline"
   ]
  },
  {
   "cell_type": "code",
   "execution_count": 2,
   "metadata": {},
   "outputs": [],
   "source": [
    "\n",
    "def load_models():\n",
    "    with open(\"stoi.pkl\", \"rb\") as f:\n",
    "        stoi = pickle.load(f)\n",
    "    with open(\"itos.pkl\", \"rb\") as f:\n",
    "        itos = pickle.load(f)\n",
    "\n",
    "    model1 = NextWord(16, len(stoi), 128, [512, 512, 512], nn.LeakyReLU(negative_slope=0.01)).to(device)    \n",
    "    relu_128_16 = torch.load('LeakyReLU(negative_slope=0.01)_EMB128_Context16.pth', map_location = device)    \n",
    "    relu_128_16 = {k.replace(\"_orig_mod.\", \"\"): v for k, v in relu_128_16.items()}\n",
    "    model1.load_state_dict(relu_128_16)\n",
    "    model2 = NextWord(32, len(stoi), 128, [512, 512, 512], nn.LeakyReLU(negative_slope=0.01)).to(device)\n",
    "    relu_128_32 = torch.load('LeakyReLU(negative_slope=0.01)_EMB128_Context32.pth', map_location = device)\n",
    "    relu_128_32 = {k.replace(\"_orig_mod.\", \"\"): v for k, v in relu_128_32.items()}\n",
    "    model2.load_state_dict(relu_128_32)\n",
    "    model3 = NextWord(16, len(stoi), 256, [512, 512, 512], nn.LeakyReLU(negative_slope=0.01)).to(device)\n",
    "    relu_256_16 = torch.load('LeakyReLU(negative_slope=0.01)_EMB256_Context16.pth', map_location = device)\n",
    "    relu_256_16 = {k.replace(\"_orig_mod.\", \"\"): v for k, v in relu_256_16.items()}\n",
    "    model3.load_state_dict(relu_256_16)\n",
    "    model4 = NextWord(32, len(stoi), 256, [512, 512, 512], nn.LeakyReLU(negative_slope=0.01)).to(device)\n",
    "    relu_256_32 = torch.load('LeakyReLU(negative_slope=0.01)_EMB256_Context32.pth', map_location = device)\n",
    "    relu_256_32 = {k.replace(\"_orig_mod.\", \"\"): v for k, v in relu_256_32.items()}\n",
    "    model4.load_state_dict(relu_256_32)\n",
    "    model5 = NextWord(16, len(stoi), 128, [512, 512, 512], nn.Tanh()).to(device)\n",
    "    tanh_128_16 = torch.load('Tanh()_EMB128_Context16.pth',map_location = device)\n",
    "    tanh_128_16 = {k.replace(\"_orig_mod.\", \"\"): v for k, v in tanh_128_16.items()}\n",
    "    model5.load_state_dict(tanh_128_16)\n",
    "    model6 = NextWord(32, len(stoi), 128, [512, 512, 512], nn.Tanh()).to(device)\n",
    "    tanh_128_32 = torch.load('Tanh()_EMB128_Context32.pth',map_location = device)\n",
    "    tanh_128_32 = {k.replace(\"_orig_mod.\", \"\"): v for k, v in tanh_128_32.items()}\n",
    "    model6.load_state_dict(tanh_128_32)\n",
    "    model7 = NextWord(16, len(stoi), 256, [512, 512, 512], nn.Tanh()).to(device)\n",
    "    tanh_256_16 = torch.load('Tanh()_EMB256_Context16.pth',map_location = device)\n",
    "    tanh_256_16 = {k.replace(\"_orig_mod.\", \"\"): v for k, v in tanh_256_16.items()}\n",
    "    model7.load_state_dict(tanh_256_16)\n",
    "    model8 = NextWord(32, len(stoi), 256, [512, 512, 512], nn.Tanh()).to(device)\n",
    "    tanh_256_32 = torch.load('Tanh()_EMB256_Context32.pth',map_location = device)\n",
    "    tanh_256_32 = {k.replace(\"_orig_mod.\", \"\"): v for k, v in tanh_256_32.items()}\n",
    "    model8.load_state_dict(tanh_256_32)\n",
    "\n",
    "    \n",
    "    return stoi, itos, {\n",
    "        'relu_128_16': model1,\n",
    "        'relu_128_32': model2,\n",
    "        'relu_256_16': model3,\n",
    "        'relu_256_32': model4,\n",
    "        'tanh_128_16': model5,\n",
    "        'tanh_128_32': model6,\n",
    "        'tanh_256_16': model7,\n",
    "        'tanh_256_32': model8\n",
    "\n",
    "    }"
   ]
  },
  {
   "cell_type": "code",
   "execution_count": 3,
   "metadata": {},
   "outputs": [],
   "source": [
    "def get_embeddings(model):\n",
    "    emb = model.emb.weight.data.cpu().numpy()\n",
    "    return emb\n",
    "\n",
    "def plot_tsne_embeddings(name,emb, itos):\n",
    "    tsne = TSNE(n_components=2, random_state=42)\n",
    "    emb_tsne = tsne.fit_transform(emb)\n",
    "    plt.figure(figsize=(100, 100))\n",
    "    plt.scatter(emb_tsne[:, 0], emb_tsne[:, 1])\n",
    "    for i, txt in enumerate(itos):\n",
    "        plt.annotate(itos[txt], (emb_tsne[i, 0], emb_tsne[i, 1]))\n",
    "    plt.show()\n",
    "    plt.savefig(f'{name}.png')\n"
   ]
  },
  {
   "cell_type": "code",
   "execution_count": 4,
   "metadata": {},
   "outputs": [
    {
     "name": "stderr",
     "output_type": "stream",
     "text": [
      "C:\\Users\\skabh\\AppData\\Local\\Temp\\ipykernel_35872\\1358810607.py:8: FutureWarning: You are using `torch.load` with `weights_only=False` (the current default value), which uses the default pickle module implicitly. It is possible to construct malicious pickle data which will execute arbitrary code during unpickling (See https://github.com/pytorch/pytorch/blob/main/SECURITY.md#untrusted-models for more details). In a future release, the default value for `weights_only` will be flipped to `True`. This limits the functions that could be executed during unpickling. Arbitrary objects will no longer be allowed to be loaded via this mode unless they are explicitly allowlisted by the user via `torch.serialization.add_safe_globals`. We recommend you start setting `weights_only=True` for any use case where you don't have full control of the loaded file. Please open an issue on GitHub for any issues related to this experimental feature.\n",
      "  relu_128_16 = torch.load('LeakyReLU(negative_slope=0.01)_EMB128_Context16.pth', map_location = device)\n",
      "C:\\Users\\skabh\\AppData\\Local\\Temp\\ipykernel_35872\\1358810607.py:12: FutureWarning: You are using `torch.load` with `weights_only=False` (the current default value), which uses the default pickle module implicitly. It is possible to construct malicious pickle data which will execute arbitrary code during unpickling (See https://github.com/pytorch/pytorch/blob/main/SECURITY.md#untrusted-models for more details). In a future release, the default value for `weights_only` will be flipped to `True`. This limits the functions that could be executed during unpickling. Arbitrary objects will no longer be allowed to be loaded via this mode unless they are explicitly allowlisted by the user via `torch.serialization.add_safe_globals`. We recommend you start setting `weights_only=True` for any use case where you don't have full control of the loaded file. Please open an issue on GitHub for any issues related to this experimental feature.\n",
      "  relu_128_32 = torch.load('LeakyReLU(negative_slope=0.01)_EMB128_Context32.pth', map_location = device)\n",
      "C:\\Users\\skabh\\AppData\\Local\\Temp\\ipykernel_35872\\1358810607.py:16: FutureWarning: You are using `torch.load` with `weights_only=False` (the current default value), which uses the default pickle module implicitly. It is possible to construct malicious pickle data which will execute arbitrary code during unpickling (See https://github.com/pytorch/pytorch/blob/main/SECURITY.md#untrusted-models for more details). In a future release, the default value for `weights_only` will be flipped to `True`. This limits the functions that could be executed during unpickling. Arbitrary objects will no longer be allowed to be loaded via this mode unless they are explicitly allowlisted by the user via `torch.serialization.add_safe_globals`. We recommend you start setting `weights_only=True` for any use case where you don't have full control of the loaded file. Please open an issue on GitHub for any issues related to this experimental feature.\n",
      "  relu_256_16 = torch.load('LeakyReLU(negative_slope=0.01)_EMB256_Context16.pth', map_location = device)\n",
      "C:\\Users\\skabh\\AppData\\Local\\Temp\\ipykernel_35872\\1358810607.py:20: FutureWarning: You are using `torch.load` with `weights_only=False` (the current default value), which uses the default pickle module implicitly. It is possible to construct malicious pickle data which will execute arbitrary code during unpickling (See https://github.com/pytorch/pytorch/blob/main/SECURITY.md#untrusted-models for more details). In a future release, the default value for `weights_only` will be flipped to `True`. This limits the functions that could be executed during unpickling. Arbitrary objects will no longer be allowed to be loaded via this mode unless they are explicitly allowlisted by the user via `torch.serialization.add_safe_globals`. We recommend you start setting `weights_only=True` for any use case where you don't have full control of the loaded file. Please open an issue on GitHub for any issues related to this experimental feature.\n",
      "  relu_256_32 = torch.load('LeakyReLU(negative_slope=0.01)_EMB256_Context32.pth', map_location = device)\n",
      "C:\\Users\\skabh\\AppData\\Local\\Temp\\ipykernel_35872\\1358810607.py:24: FutureWarning: You are using `torch.load` with `weights_only=False` (the current default value), which uses the default pickle module implicitly. It is possible to construct malicious pickle data which will execute arbitrary code during unpickling (See https://github.com/pytorch/pytorch/blob/main/SECURITY.md#untrusted-models for more details). In a future release, the default value for `weights_only` will be flipped to `True`. This limits the functions that could be executed during unpickling. Arbitrary objects will no longer be allowed to be loaded via this mode unless they are explicitly allowlisted by the user via `torch.serialization.add_safe_globals`. We recommend you start setting `weights_only=True` for any use case where you don't have full control of the loaded file. Please open an issue on GitHub for any issues related to this experimental feature.\n",
      "  tanh_128_16 = torch.load('Tanh()_EMB128_Context16.pth',map_location = device)\n",
      "C:\\Users\\skabh\\AppData\\Local\\Temp\\ipykernel_35872\\1358810607.py:28: FutureWarning: You are using `torch.load` with `weights_only=False` (the current default value), which uses the default pickle module implicitly. It is possible to construct malicious pickle data which will execute arbitrary code during unpickling (See https://github.com/pytorch/pytorch/blob/main/SECURITY.md#untrusted-models for more details). In a future release, the default value for `weights_only` will be flipped to `True`. This limits the functions that could be executed during unpickling. Arbitrary objects will no longer be allowed to be loaded via this mode unless they are explicitly allowlisted by the user via `torch.serialization.add_safe_globals`. We recommend you start setting `weights_only=True` for any use case where you don't have full control of the loaded file. Please open an issue on GitHub for any issues related to this experimental feature.\n",
      "  tanh_128_32 = torch.load('Tanh()_EMB128_Context32.pth',map_location = device)\n",
      "C:\\Users\\skabh\\AppData\\Local\\Temp\\ipykernel_35872\\1358810607.py:32: FutureWarning: You are using `torch.load` with `weights_only=False` (the current default value), which uses the default pickle module implicitly. It is possible to construct malicious pickle data which will execute arbitrary code during unpickling (See https://github.com/pytorch/pytorch/blob/main/SECURITY.md#untrusted-models for more details). In a future release, the default value for `weights_only` will be flipped to `True`. This limits the functions that could be executed during unpickling. Arbitrary objects will no longer be allowed to be loaded via this mode unless they are explicitly allowlisted by the user via `torch.serialization.add_safe_globals`. We recommend you start setting `weights_only=True` for any use case where you don't have full control of the loaded file. Please open an issue on GitHub for any issues related to this experimental feature.\n",
      "  tanh_256_16 = torch.load('Tanh()_EMB256_Context16.pth',map_location = device)\n",
      "C:\\Users\\skabh\\AppData\\Local\\Temp\\ipykernel_35872\\1358810607.py:36: FutureWarning: You are using `torch.load` with `weights_only=False` (the current default value), which uses the default pickle module implicitly. It is possible to construct malicious pickle data which will execute arbitrary code during unpickling (See https://github.com/pytorch/pytorch/blob/main/SECURITY.md#untrusted-models for more details). In a future release, the default value for `weights_only` will be flipped to `True`. This limits the functions that could be executed during unpickling. Arbitrary objects will no longer be allowed to be loaded via this mode unless they are explicitly allowlisted by the user via `torch.serialization.add_safe_globals`. We recommend you start setting `weights_only=True` for any use case where you don't have full control of the loaded file. Please open an issue on GitHub for any issues related to this experimental feature.\n",
      "  tanh_256_32 = torch.load('Tanh()_EMB256_Context32.pth',map_location = device)\n"
     ]
    }
   ],
   "source": [
    "stoi, itos, models = load_models()\n",
    "\n",
    "r = get_embeddings(models['relu_128_16'])\n",
    "plot_tsne_embeddings(r, itos)"
   ]
  },
  {
   "cell_type": "code",
   "execution_count": 10,
   "metadata": {},
   "outputs": [],
   "source": [
    "for i in models:\n",
    "    emb = get_embeddings(models[i])\n",
    "    plot_tsne_embeddings(i, emb, itos)"
   ]
  }
 ],
 "metadata": {
  "kernelspec": {
   "display_name": "Python 3",
   "language": "python",
   "name": "python3"
  },
  "language_info": {
   "codemirror_mode": {
    "name": "ipython",
    "version": 3
   },
   "file_extension": ".py",
   "mimetype": "text/x-python",
   "name": "python",
   "nbconvert_exporter": "python",
   "pygments_lexer": "ipython3",
   "version": "3.12.4"
  }
 },
 "nbformat": 4,
 "nbformat_minor": 2
}
